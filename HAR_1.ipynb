{
  "nbformat": 4,
  "nbformat_minor": 0,
  "metadata": {
    "colab": {
      "provenance": [],
      "gpuType": "V28",
      "authorship_tag": "ABX9TyNMRzWcb5hOniziFRUAKVXv",
      "include_colab_link": true
    },
    "kernelspec": {
      "name": "python3",
      "display_name": "Python 3"
    },
    "language_info": {
      "name": "python"
    },
    "accelerator": "TPU"
  },
  "cells": [
    {
      "cell_type": "markdown",
      "metadata": {
        "id": "view-in-github",
        "colab_type": "text"
      },
      "source": [
        "<a href=\"https://colab.research.google.com/github/ParthibMudi/HAR/blob/main/HAR_1.ipynb\" target=\"_parent\"><img src=\"https://colab.research.google.com/assets/colab-badge.svg\" alt=\"Open In Colab\"/></a>"
      ]
    },
    {
      "cell_type": "code",
      "execution_count": 1,
      "metadata": {
        "colab": {
          "base_uri": "https://localhost:8080/"
        },
        "id": "AiBJj6UV_owz",
        "outputId": "f8e0e0e9-bfc4-4924-93ea-6b6922f3716c"
      },
      "outputs": [
        {
          "output_type": "stream",
          "name": "stdout",
          "text": [
            "Mounted at /content/drive\n"
          ]
        }
      ],
      "source": [
        "from google.colab import drive\n",
        "drive.mount('/content/drive')"
      ]
    },
    {
      "cell_type": "code",
      "source": [
        "import numpy as np\n",
        "import pandas as pd\n",
        "from time import time\n",
        "import matplotlib as mpl\n",
        "import matplotlib.pylab as plt\n",
        "import warnings\n",
        "warnings.filterwarnings('ignore')\n"
      ],
      "metadata": {
        "id": "VH0J8KRhBIGb"
      },
      "execution_count": 2,
      "outputs": []
    },
    {
      "cell_type": "code",
      "source": [
        "google_drive = '/content/drive/MyDrive/datasets/UCI_HAR/UCI/'\n",
        "\n",
        "\n",
        "\n",
        "y_train = pd.read_csv(google_drive+'train/y_train.txt', header=None, names=['Activity No.'])\n",
        "y_test = pd.read_csv(google_drive+'test/y_test.txt', header=None, names=['Activity No.'])\n",
        "\n",
        "body_acc_x_train = pd.read_csv(google_drive+'train/Inertial Signals/body_acc_x_train.txt', sep='\\s+', header=None, index_col=False)\n",
        "body_acc_y_train = pd.read_csv(google_drive+'train/Inertial Signals/body_acc_y_train.txt', sep='\\s+', header=None, index_col=False)\n",
        "body_acc_z_train = pd.read_csv(google_drive+'train/Inertial Signals/body_acc_z_train.txt', sep='\\s+', header=None, index_col=False)\n",
        "body_gyro_x_train = pd.read_csv(google_drive+'train/Inertial Signals/body_gyro_x_train.txt', sep='\\s+', header=None, index_col=False)\n",
        "body_gyro_y_train = pd.read_csv(google_drive+'train/Inertial Signals/body_gyro_y_train.txt', sep='\\s+', header=None, index_col=False)\n",
        "body_gyro_z_train = pd.read_csv(google_drive+'train/Inertial Signals/body_gyro_z_train.txt', sep='\\s+', header=None, index_col=False)\n",
        "total_acc_x_train = pd.read_csv(google_drive+'train/Inertial Signals/total_acc_x_train.txt', sep='\\s+', header=None, index_col=False)\n",
        "total_acc_y_train = pd.read_csv(google_drive+'train/Inertial Signals/total_acc_y_train.txt', sep='\\s+', header=None, index_col=False)\n",
        "total_acc_z_train = pd.read_csv(google_drive+'train/Inertial Signals/total_acc_z_train.txt', sep='\\s+', header=None, index_col=False)\n",
        "\n",
        "body_acc_x_test = pd.read_csv(google_drive+'test/Inertial Signals/body_acc_x_test.txt', sep='\\s+', header=None, index_col=False)\n",
        "body_acc_y_test = pd.read_csv(google_drive+'test/Inertial Signals/body_acc_y_test.txt', sep='\\s+', header=None, index_col=False)\n",
        "body_acc_z_test = pd.read_csv(google_drive+'test/Inertial Signals/body_acc_z_test.txt', sep='\\s+', header=None, index_col=False)\n",
        "body_gyro_x_test = pd.read_csv(google_drive+'test/Inertial Signals/body_gyro_x_test.txt', sep='\\s+', header=None, index_col=False)\n",
        "body_gyro_y_test = pd.read_csv(google_drive+'test/Inertial Signals/body_gyro_y_test.txt', sep='\\s+', header=None, index_col=False)\n",
        "body_gyro_z_test = pd.read_csv(google_drive+'test/Inertial Signals/body_gyro_z_test.txt', sep='\\s+', header=None, index_col=False)\n",
        "total_acc_x_test = pd.read_csv(google_drive+'test/Inertial Signals/total_acc_x_test.txt', sep='\\s+', header=None, index_col=False)\n",
        "total_acc_y_test = pd.read_csv(google_drive+'test/Inertial Signals/total_acc_y_test.txt', sep='\\s+', header=None, index_col=False)\n",
        "total_acc_z_test = pd.read_csv(google_drive+'test/Inertial Signals/total_acc_z_test.txt', sep='\\s+', header=None, index_col=False)"
      ],
      "metadata": {
        "id": "D4Gu7tqGBepw"
      },
      "execution_count": 9,
      "outputs": []
    },
    {
      "cell_type": "code",
      "source": [
        "import tensorflow as tf\n",
        "import numpy as np\n",
        "\n",
        "# Stacking the 9 features for each time sequence observation (training)\n",
        "sequence_train = np.dstack((body_acc_x_train, body_acc_y_train, body_acc_z_train,\n",
        "                            body_gyro_x_train, body_gyro_y_train, body_gyro_z_train,\n",
        "                            total_acc_x_train, total_acc_y_train, total_acc_z_train))\n",
        "\n",
        "# Stacking the 9 features for each time sequence observation (testing)\n",
        "sequence_test = np.dstack((body_acc_x_test, body_acc_y_test, body_acc_z_test,\n",
        "                           body_gyro_x_test, body_gyro_y_test, body_gyro_z_test,\n",
        "                           total_acc_x_test, total_acc_y_test, total_acc_z_test))\n",
        "\n",
        "# Convert to TensorFlow tensors\n",
        "sequence_train_tensor = tf.convert_to_tensor(sequence_train, dtype=tf.float32)\n",
        "sequence_test_tensor = tf.convert_to_tensor(sequence_test, dtype=tf.float32)\n",
        "\n",
        "# Convert labels to tensors (assuming y_train and y_test are pandas Series)\n",
        "y_train_tensor = tf.convert_to_tensor(y_train.values - 1, dtype=tf.int64)  # Subtracting 1 to zero-index the labels\n",
        "y_test_true = y_test.values.flatten()  # Flatten if necessary\n"
      ],
      "metadata": {
        "id": "01IldnP1CsaN"
      },
      "execution_count": 11,
      "outputs": []
    },
    {
      "cell_type": "code",
      "source": [
        "import tensorflow as tf\n",
        "import numpy as np\n",
        "\n",
        "# Define the LSTM model\n",
        "class LSTMModel(tf.keras.Model):\n",
        "    def __init__(self):\n",
        "        super(LSTMModel, self).__init__()\n",
        "        # LSTM layer\n",
        "        self.lstm = tf.keras.layers.LSTM(128, return_sequences=False, input_shape=(None, 561))\n",
        "        # Fully connected layer with 6 output units (for 6 classes) and softmax activation\n",
        "        self.fc = tf.keras.layers.Dense(6, activation='softmax')\n",
        "\n",
        "    def call(self, x):\n",
        "        # Pass input through LSTM layer\n",
        "        lstm_out = self.lstm(x)\n",
        "        # Pass the output of LSTM to the fully connected layer\n",
        "        out = self.fc(lstm_out)\n",
        "        return out\n"
      ],
      "metadata": {
        "id": "Sac0cJ2yDwQk"
      },
      "execution_count": 12,
      "outputs": []
    },
    {
      "cell_type": "code",
      "source": [
        "\n",
        "# Initialize the model\n",
        "model = LSTMModel()\n",
        "\n",
        "# Compile the model with Adam optimizer and SparseCategoricalCrossentropy loss\n",
        "model.compile(optimizer=tf.keras.optimizers.Adam(learning_rate=0.001),\n",
        "              loss=tf.keras.losses.SparseCategoricalCrossentropy(),\n",
        "              metrics=['accuracy'])\n",
        "\n",
        "# Train the model (assuming batch_size=32 and epochs=10)\n",
        "history = model.fit(sequence_train_tensor, y_train_tensor, epochs=10, batch_size=32)\n"
      ],
      "metadata": {
        "colab": {
          "base_uri": "https://localhost:8080/"
        },
        "id": "d2tqvYVCDwNn",
        "outputId": "6a560935-68b7-448b-9db6-8213dda561ba"
      },
      "execution_count": 14,
      "outputs": [
        {
          "output_type": "stream",
          "name": "stdout",
          "text": [
            "Epoch 1/10\n",
            "230/230 [==============================] - 21s 82ms/step - loss: 1.0689 - accuracy: 0.5524\n",
            "Epoch 2/10\n",
            "230/230 [==============================] - 18s 77ms/step - loss: 0.7168 - accuracy: 0.7217\n",
            "Epoch 3/10\n",
            "230/230 [==============================] - 17s 75ms/step - loss: 0.4892 - accuracy: 0.8199\n",
            "Epoch 4/10\n",
            "230/230 [==============================] - 17s 76ms/step - loss: 0.3574 - accuracy: 0.8698\n",
            "Epoch 5/10\n",
            "230/230 [==============================] - 17s 74ms/step - loss: 0.2855 - accuracy: 0.9002\n",
            "Epoch 6/10\n",
            "230/230 [==============================] - 17s 74ms/step - loss: 0.2311 - accuracy: 0.9161\n",
            "Epoch 7/10\n",
            "230/230 [==============================] - 18s 78ms/step - loss: 0.1989 - accuracy: 0.9267\n",
            "Epoch 8/10\n",
            "230/230 [==============================] - 17s 72ms/step - loss: 0.1600 - accuracy: 0.9378\n",
            "Epoch 9/10\n",
            "230/230 [==============================] - 18s 80ms/step - loss: 0.1629 - accuracy: 0.9353\n",
            "Epoch 10/10\n",
            "230/230 [==============================] - 18s 77ms/step - loss: 0.1457 - accuracy: 0.9433\n"
          ]
        }
      ]
    },
    {
      "cell_type": "code",
      "source": [
        "\n",
        "# Evaluate on test data (assuming sequence_test_tensor and y_test_true are available)\n",
        "y_test_predict = model.predict(sequence_test_tensor)\n",
        "y_test_predict = np.argmax(y_test_predict, axis=1) + 1  # Convert to class labels\n"
      ],
      "metadata": {
        "colab": {
          "base_uri": "https://localhost:8080/"
        },
        "id": "4kFBumjDDwLa",
        "outputId": "92a34b49-4e83-4731-abaa-1b264f310926"
      },
      "execution_count": 15,
      "outputs": [
        {
          "output_type": "stream",
          "name": "stdout",
          "text": [
            "93/93 [==============================] - 3s 24ms/step\n"
          ]
        }
      ]
    },
    {
      "cell_type": "code",
      "source": [
        "\n",
        "# Calculate accuracy\n",
        "accuracy = np.sum(y_test_predict == y_test_true)*100 / len(y_test_true)\n",
        "print('Test Accuracy = %.3f' % accuracy)\n"
      ],
      "metadata": {
        "colab": {
          "base_uri": "https://localhost:8080/"
        },
        "id": "vJdTcFGtDwJK",
        "outputId": "5da88bfb-8008-47c4-a317-e4de7a4de8fb"
      },
      "execution_count": 17,
      "outputs": [
        {
          "output_type": "stream",
          "name": "stdout",
          "text": [
            "Test Accuracy = 89.752\n"
          ]
        }
      ]
    },
    {
      "cell_type": "code",
      "source": [
        "import numpy as np\n",
        "\n",
        "\n",
        "single_sample = sequence_test_tensor[0:1]\n",
        "prediction = model.predict(single_sample)\n",
        "predicted_class = np.argmax(prediction, axis=1)\n",
        "predicted_label = predicted_class[0] + 1\n",
        "print(f'Predicted class no. : {predicted_label}')\n",
        "activity = get_activity(predicted_label)\n",
        "print(f\"Predicted class:: {activity}\")\n"
      ],
      "metadata": {
        "colab": {
          "base_uri": "https://localhost:8080/"
        },
        "id": "jX38-tkrFtlV",
        "outputId": "51e10d32-bd7d-4360-c560-81119e1278f3"
      },
      "execution_count": 21,
      "outputs": [
        {
          "output_type": "stream",
          "name": "stdout",
          "text": [
            "1/1 [==============================] - 0s 29ms/step\n",
            "Predicted class no. : 5\n",
            "Predicted class:: STANDING\n"
          ]
        }
      ]
    },
    {
      "cell_type": "code",
      "source": [
        "def get_activity(activity_number):\n",
        "    activity_mapping = {\n",
        "        1: \"WALKING\",\n",
        "        2: \"WALKING_UPSTAIRS\",\n",
        "        3: \"WALKING_DOWNSTAIRS\",\n",
        "        4: \"SITTING\",\n",
        "        5: \"STANDING\",\n",
        "        6: \"LAYING\"\n",
        "    }\n",
        "\n",
        "    return activity_mapping.get(activity_number, \"Invalid activity number\")\n",
        "\n"
      ],
      "metadata": {
        "id": "Y8T7RqkjHbBq"
      },
      "execution_count": 19,
      "outputs": []
    },
    {
      "cell_type": "code",
      "source": [],
      "metadata": {
        "id": "H0qKTGCSITkZ"
      },
      "execution_count": null,
      "outputs": []
    }
  ]
}